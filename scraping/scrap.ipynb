{
 "cells": [
  {
   "cell_type": "code",
   "execution_count": 1,
   "id": "69bab41b-d277-4ceb-b9bd-d84e912feb13",
   "metadata": {},
   "outputs": [],
   "source": [
    "from google_play_scraper import reviews, Sort\n",
    "import pandas as pd\n",
    "import time"
   ]
  },
  {
   "cell_type": "code",
   "execution_count": 2,
   "id": "05b0a120-e072-4d6f-b56c-dcef3ff0fe1a",
   "metadata": {},
   "outputs": [],
   "source": [
    "def scrape_google_play_reviews(app_package_name, max_reviews=5000, sleep_time=1.5):\n",
    "    all_reviews = []\n",
    "    next_token = None\n",
    "\n",
    "    print(f\"Starting to scrape reviews for: {app_package_name}\")\n",
    "    while len(all_reviews) < max_reviews:\n",
    "        batch, next_token = reviews(\n",
    "            app_package_name,\n",
    "            lang='en',\n",
    "            country='kh',\n",
    "            sort=Sort.NEWEST,\n",
    "            count=200,\n",
    "            continuation_token=next_token\n",
    "        )\n",
    "        if not batch:\n",
    "            print(\"No more reviews found.\")\n",
    "            break\n",
    "\n",
    "        all_reviews.extend(batch)\n",
    "        print(f\"Fetched {len(all_reviews)} / {max_reviews} reviews...\")\n",
    "\n",
    "        if not next_token:\n",
    "            break\n",
    "\n",
    "        time.sleep(sleep_time)\n",
    "\n",
    "    all_reviews = all_reviews[:max_reviews]\n",
    "    df = pd.DataFrame(all_reviews)\n",
    "\n",
    "    if df.empty:\n",
    "        print(\"No reviews found.\")\n",
    "        return df\n",
    "\n",
    "    expected_columns = ['reviewId', 'userName', 'content', 'score', 'at']\n",
    "    missing_columns = [col for col in expected_columns if col not in df.columns]\n",
    "    if missing_columns:\n",
    "        print(f\"Missing columns in DataFrame: {missing_columns}\")\n",
    "        print(f\"Available columns: {list(df.columns)}\")\n",
    "        return df\n",
    "\n",
    "    df = df[expected_columns]\n",
    "    df.columns = ['review_id', 'username', 'content', 'rating', 'review_date']\n",
    "    return df"
   ]
  },
  {
   "cell_type": "code",
   "execution_count": 4,
   "id": "a6b79203-2e78-494d-9195-d1f46ee39890",
   "metadata": {},
   "outputs": [
    {
     "name": "stdout",
     "output_type": "stream",
     "text": [
      "Starting to scrape reviews for: net.omobio.smartsc\n",
      "Fetched 200 / 60000 reviews...\n",
      "Fetched 400 / 60000 reviews...\n",
      "Fetched 600 / 60000 reviews...\n",
      "Fetched 800 / 60000 reviews...\n",
      "Fetched 1000 / 60000 reviews...\n",
      "Fetched 1200 / 60000 reviews...\n",
      "Fetched 1400 / 60000 reviews...\n",
      "Fetched 1600 / 60000 reviews...\n",
      "Fetched 1800 / 60000 reviews...\n",
      "Fetched 2000 / 60000 reviews...\n",
      "Fetched 2200 / 60000 reviews...\n",
      "Fetched 2400 / 60000 reviews...\n",
      "Fetched 2600 / 60000 reviews...\n",
      "Fetched 2800 / 60000 reviews...\n",
      "Fetched 3000 / 60000 reviews...\n",
      "Fetched 3200 / 60000 reviews...\n",
      "Fetched 3400 / 60000 reviews...\n",
      "Fetched 3600 / 60000 reviews...\n",
      "Fetched 3800 / 60000 reviews...\n",
      "Fetched 4000 / 60000 reviews...\n",
      "Fetched 4200 / 60000 reviews...\n",
      "Fetched 4400 / 60000 reviews...\n",
      "Fetched 4600 / 60000 reviews...\n",
      "Fetched 4800 / 60000 reviews...\n",
      "Fetched 5000 / 60000 reviews...\n",
      "Fetched 5200 / 60000 reviews...\n",
      "Fetched 5400 / 60000 reviews...\n",
      "Fetched 5600 / 60000 reviews...\n",
      "Fetched 5800 / 60000 reviews...\n",
      "Fetched 6000 / 60000 reviews...\n",
      "Fetched 6200 / 60000 reviews...\n",
      "Fetched 6400 / 60000 reviews...\n",
      "Fetched 6600 / 60000 reviews...\n",
      "Fetched 6800 / 60000 reviews...\n",
      "Fetched 6924 / 60000 reviews...\n",
      "No more reviews found.\n"
     ]
    }
   ],
   "source": [
    "app_package = 'net.omobio.smartsc'\n",
    "reviews_df = scrape_google_play_reviews(app_package_name=app_package, max_reviews=60000)"
   ]
  },
  {
   "cell_type": "code",
   "execution_count": 5,
   "id": "3869c719-51e1-4fee-98b7-3649228fe42d",
   "metadata": {},
   "outputs": [
    {
     "data": {
      "text/html": [
       "<div>\n",
       "<style scoped>\n",
       "    .dataframe tbody tr th:only-of-type {\n",
       "        vertical-align: middle;\n",
       "    }\n",
       "\n",
       "    .dataframe tbody tr th {\n",
       "        vertical-align: top;\n",
       "    }\n",
       "\n",
       "    .dataframe thead th {\n",
       "        text-align: right;\n",
       "    }\n",
       "</style>\n",
       "<table border=\"1\" class=\"dataframe\">\n",
       "  <thead>\n",
       "    <tr style=\"text-align: right;\">\n",
       "      <th></th>\n",
       "      <th>review_id</th>\n",
       "      <th>username</th>\n",
       "      <th>content</th>\n",
       "      <th>rating</th>\n",
       "      <th>review_date</th>\n",
       "    </tr>\n",
       "  </thead>\n",
       "  <tbody>\n",
       "    <tr>\n",
       "      <th>0</th>\n",
       "      <td>0ca3b1b1-8512-4333-8da7-78ba86888b86</td>\n",
       "      <td>Phal Dara</td>\n",
       "      <td>👍👍</td>\n",
       "      <td>4</td>\n",
       "      <td>2025-07-25 12:45:15</td>\n",
       "    </tr>\n",
       "    <tr>\n",
       "      <th>1</th>\n",
       "      <td>99d1d5ff-6297-4a84-a79e-9ffdecb21959</td>\n",
       "      <td>Phanna A</td>\n",
       "      <td>poor internet 🤡</td>\n",
       "      <td>1</td>\n",
       "      <td>2025-07-24 07:11:41</td>\n",
       "    </tr>\n",
       "    <tr>\n",
       "      <th>2</th>\n",
       "      <td>ba1b5ceb-e7e2-4f12-b4f6-deae12129498</td>\n",
       "      <td>Razy U</td>\n",
       "      <td>ដូចអាចម៍</td>\n",
       "      <td>1</td>\n",
       "      <td>2025-07-24 00:01:59</td>\n",
       "    </tr>\n",
       "    <tr>\n",
       "      <th>3</th>\n",
       "      <td>765f97ba-945b-43ee-ac23-0341fe8712c1</td>\n",
       "      <td>Sopheak Sok</td>\n",
       "      <td>ដូចអាចម៍</td>\n",
       "      <td>5</td>\n",
       "      <td>2025-07-23 07:57:03</td>\n",
       "    </tr>\n",
       "    <tr>\n",
       "      <th>4</th>\n",
       "      <td>71eec25e-cd5a-46ab-9a4b-107bb57bfc26</td>\n",
       "      <td>RW Media</td>\n",
       "      <td>very slow, take long time to start the app</td>\n",
       "      <td>2</td>\n",
       "      <td>2025-07-23 07:17:02</td>\n",
       "    </tr>\n",
       "  </tbody>\n",
       "</table>\n",
       "</div>"
      ],
      "text/plain": [
       "                              review_id     username  \\\n",
       "0  0ca3b1b1-8512-4333-8da7-78ba86888b86    Phal Dara   \n",
       "1  99d1d5ff-6297-4a84-a79e-9ffdecb21959     Phanna A   \n",
       "2  ba1b5ceb-e7e2-4f12-b4f6-deae12129498       Razy U   \n",
       "3  765f97ba-945b-43ee-ac23-0341fe8712c1  Sopheak Sok   \n",
       "4  71eec25e-cd5a-46ab-9a4b-107bb57bfc26     RW Media   \n",
       "\n",
       "                                      content  rating         review_date  \n",
       "0                                          👍👍       4 2025-07-25 12:45:15  \n",
       "1                             poor internet 🤡       1 2025-07-24 07:11:41  \n",
       "2                                    ដូចអាចម៍       1 2025-07-24 00:01:59  \n",
       "3                                    ដូចអាចម៍       5 2025-07-23 07:57:03  \n",
       "4  very slow, take long time to start the app       2 2025-07-23 07:17:02  "
      ]
     },
     "execution_count": 5,
     "metadata": {},
     "output_type": "execute_result"
    }
   ],
   "source": [
    "reviews_df.head()"
   ]
  },
  {
   "cell_type": "code",
   "execution_count": 6,
   "id": "4527f41f-99fa-40cf-b840-63809e4e769a",
   "metadata": {},
   "outputs": [
    {
     "name": "stdout",
     "output_type": "stream",
     "text": [
      "✅ Exported 6924 reviews to ../data/smartnas_customer_reviews.csv\n"
     ]
    }
   ],
   "source": [
    "output_file = '../data/smartnas_customer_reviews.csv'\n",
    "reviews_df.to_csv(output_file, index=False, encoding='utf-8-sig')\n",
    "print(f\"✅ Exported {len(reviews_df)} reviews to {output_file}\")"
   ]
  }
 ],
 "metadata": {
  "kernelspec": {
   "display_name": "Python 3 (ipykernel)",
   "language": "python",
   "name": "python3"
  },
  "language_info": {
   "codemirror_mode": {
    "name": "ipython",
    "version": 3
   },
   "file_extension": ".py",
   "mimetype": "text/x-python",
   "name": "python",
   "nbconvert_exporter": "python",
   "pygments_lexer": "ipython3",
   "version": "3.13.5"
  }
 },
 "nbformat": 4,
 "nbformat_minor": 5
}
